{
 "cells": [
  {
   "cell_type": "code",
   "execution_count": 5,
   "metadata": {},
   "outputs": [
    {
     "name": "stdout",
     "output_type": "stream",
     "text": [
      "What's the number?3\n",
      "I am thinking of a number from 1-10. Can you find it? You have 5 tries. Guess what is it9\n"
     ]
    },
    {
     "data": {
      "text/plain": [
       "\"Nope. It's lower than that. Try again.\""
      ]
     },
     "execution_count": 5,
     "metadata": {},
     "output_type": "execute_result"
    }
   ],
   "source": [
    "def start():\n",
    "    my_number = int(input(\"What's the number?\"))\n",
    "    your_guess = int(input(\"I am thinking of a number from 1-10. Can you find it? You have 5 tries. Guess what is it\"))\n",
    "    tries = 1\n",
    "    while your_guess != my_number:\n",
    "        if your_guess != my_number:\n",
    "            if your_guess < my_number:\n",
    "                tries += 1\n",
    "                return \"Nope. It's higher than that. Try again.\"\n",
    "            elif your_guess > my_number:\n",
    "                tries += 1\n",
    "                return \"Nope. It's lower than that. Try again.\"\n",
    "        else:\n",
    "            return f\"Congratulations! You guessed it in {tries} tries.\"\n",
    "\n",
    "def play_again():\n",
    "    answer = input(\"Do you want to play again? Y or N\")\n",
    "    if answer == \"Y\":\n",
    "        start()\n",
    "    else:\n",
    "        return \"Thank you for playing!\"\n",
    "    \n",
    "start()"
   ]
  },
  {
   "cell_type": "code",
   "execution_count": null,
   "metadata": {},
   "outputs": [],
   "source": [
    "def value(l):\n",
    "    for items in l:\n",
    "        print(l, end=' ')\n",
    "        \n",
    "value([\"1\", \"2\", \"3\"])"
   ]
  },
  {
   "cell_type": "code",
   "execution_count": null,
   "metadata": {},
   "outputs": [],
   "source": [
    "def value(nums):\n",
    "    for items in nums:\n",
    "        print(nums, end=\" \")\n",
    "        \n",
    "value([1, 2, 3, 4, 5, 6, 7, 8, 9, 10])"
   ]
  },
  {
   "cell_type": "code",
   "execution_count": null,
   "metadata": {},
   "outputs": [],
   "source": [
    "for i in range(10):\n",
    "    print(\"_\", end=\"\")\n",
    "    #val, sep, end\n",
    "# end=\"\" used for \\n newline\n",
    "\n",
    "#print(list(map((lambda num: num%2!=0), range(11))))"
   ]
  },
  {
   "cell_type": "code",
   "execution_count": 14,
   "metadata": {},
   "outputs": [
    {
     "ename": "TypeError",
     "evalue": "'list' object is not callable",
     "output_type": "error",
     "traceback": [
      "\u001b[0;31m---------------------------------------------------------------------------\u001b[0m",
      "\u001b[0;31mTypeError\u001b[0m                                 Traceback (most recent call last)",
      "\u001b[0;32m<ipython-input-14-5098cc36597b>\u001b[0m in \u001b[0;36m<module>\u001b[0;34m()\u001b[0m\n\u001b[1;32m      8\u001b[0m             \u001b[0munderscored_nums\u001b[0m \u001b[0;34m+=\u001b[0m \u001b[0mcheck\u001b[0m\u001b[0;34m\u001b[0m\u001b[0m\n\u001b[1;32m      9\u001b[0m \u001b[0;34m\u001b[0m\u001b[0m\n\u001b[0;32m---> 10\u001b[0;31m \u001b[0munderscored\u001b[0m\u001b[0;34m(\u001b[0m\u001b[0;36m1\u001b[0m\u001b[0;34m,\u001b[0m \u001b[0;36m10\u001b[0m\u001b[0;34m)\u001b[0m\u001b[0;34m\u001b[0m\u001b[0m\n\u001b[0m",
      "\u001b[0;32m<ipython-input-14-5098cc36597b>\u001b[0m in \u001b[0;36munderscored\u001b[0;34m(start, end)\u001b[0m\n\u001b[1;32m      3\u001b[0m     \u001b[0munderscored_nums\u001b[0m \u001b[0;34m=\u001b[0m \u001b[0;34m[\u001b[0m\u001b[0;34m]\u001b[0m\u001b[0;34m\u001b[0m\u001b[0m\n\u001b[1;32m      4\u001b[0m     \u001b[0;32mfor\u001b[0m \u001b[0mcheck\u001b[0m \u001b[0;32min\u001b[0m \u001b[0mrangeof_nums\u001b[0m\u001b[0;34m:\u001b[0m\u001b[0;34m\u001b[0m\u001b[0m\n\u001b[0;32m----> 5\u001b[0;31m         \u001b[0;32mif\u001b[0m \u001b[0mrangeof_nums\u001b[0m\u001b[0;34m(\u001b[0m\u001b[0mcheck\u001b[0m\u001b[0;34m)\u001b[0m \u001b[0;34m%\u001b[0m \u001b[0;36m2\u001b[0m \u001b[0;34m!=\u001b[0m \u001b[0;36m0\u001b[0m\u001b[0;34m:\u001b[0m\u001b[0;34m\u001b[0m\u001b[0m\n\u001b[0m\u001b[1;32m      6\u001b[0m             \u001b[0munderscored_nums\u001b[0m \u001b[0;34m+=\u001b[0m \u001b[0mcheck\u001b[0m\u001b[0;34m\u001b[0m\u001b[0m\n\u001b[1;32m      7\u001b[0m         \u001b[0;32melse\u001b[0m\u001b[0;34m:\u001b[0m\u001b[0;34m\u001b[0m\u001b[0m\n",
      "\u001b[0;31mTypeError\u001b[0m: 'list' object is not callable"
     ]
    }
   ],
   "source": [
    "def underscored(start, end):\n",
    "    rangeof_nums = list(range(start, end + 1))\n",
    "    underscored_nums = []\n",
    "    for check in rangeof_nums:\n",
    "        if rangeof_nums(check) % 2 != 0:\n",
    "            underscored_nums += check\n",
    "        else:\n",
    "            underscored_nums += check\n",
    "\n",
    "underscored(1, 10)\n",
    "\n",
    "list(map(lambda num: num % 2 !=0))"
   ]
  },
  {
   "cell_type": "code",
   "execution_count": 23,
   "metadata": {},
   "outputs": [
    {
     "ename": "SyntaxError",
     "evalue": "'return' outside function (<ipython-input-23-09b0f9fb387d>, line 3)",
     "output_type": "error",
     "traceback": [
      "\u001b[0;36m  File \u001b[0;32m\"<ipython-input-23-09b0f9fb387d>\"\u001b[0;36m, line \u001b[0;32m3\u001b[0m\n\u001b[0;31m    return \"_\"\u001b[0m\n\u001b[0m    ^\u001b[0m\n\u001b[0;31mSyntaxError\u001b[0m\u001b[0;31m:\u001b[0m 'return' outside function\n"
     ]
    }
   ],
   "source": [
    "for x in range(10): \n",
    "    if x%2 != 0:\n",
    "        return \"_\"\n",
    "    else:\n",
    "        return x\n"
   ]
  },
  {
   "cell_type": "code",
   "execution_count": 24,
   "metadata": {},
   "outputs": [
    {
     "name": "stdout",
     "output_type": "stream",
     "text": [
      "['0', '_', '2', '_', '4', '_', '6', '_', '8', '_']\n"
     ]
    }
   ],
   "source": [
    "print(list(map(lambda i: \"_\"*(i%2!=0) or str(i), range(10))))"
   ]
  },
  {
   "cell_type": "code",
   "execution_count": 44,
   "metadata": {},
   "outputs": [
    {
     "name": "stdout",
     "output_type": "stream",
     "text": [
      "Welcome to GeeksforGeeks "
     ]
    }
   ],
   "source": [
    "print(\"Welcome to\" , end = ' ') \n",
    "print(\"GeeksforGeeks\", end = ' ')"
   ]
  },
  {
   "cell_type": "code",
   "execution_count": 48,
   "metadata": {},
   "outputs": [
    {
     "name": "stdout",
     "output_type": "stream",
     "text": [
      "What's the number?3\n",
      "I am thinking of a number from 1-10. Can you find it? You have 5 tries. Guess what is it9\n"
     ]
    },
    {
     "data": {
      "text/plain": [
       "\"Nope. It's lower than that. Try again.\""
      ]
     },
     "execution_count": 48,
     "metadata": {},
     "output_type": "execute_result"
    }
   ],
   "source": [
    "def start():\n",
    "    my_number = int(input(\"What's the number?\"))\n",
    "    your_guess = int(input(\"I am thinking of a number from 1-10. Can you find it? You have 5 tries. Guess what is it\"))\n",
    "    tries = 1\n",
    "    while True:\n",
    "        if your_guess != my_number:\n",
    "            if your_guess < my_number:\n",
    "                tries += 1\n",
    "                return \"Nope. It's higher than that. Try again.\"\n",
    "            elif your_guess > my_number:\n",
    "                tries += 1\n",
    "                return \"Nope. It's lower than that. Try again.\"\n",
    "        else:\n",
    "            return f\"Congratulations! You guessed it in {tries} tries.\"\n",
    "        \n",
    "start()"
   ]
  },
  {
   "cell_type": "code",
   "execution_count": null,
   "metadata": {},
   "outputs": [],
   "source": [
    "while expression: target = true_expression if test_expression else false_expression"
   ]
  },
  {
   "cell_type": "code",
   "execution_count": null,
   "metadata": {},
   "outputs": [],
   "source": [
    "while True: your_guess = my_number"
   ]
  },
  {
   "cell_type": "code",
   "execution_count": null,
   "metadata": {},
   "outputs": [],
   "source": [
    "# my_number = int(input(\"What's the number?\"))\n",
    "\n",
    "def start():\n",
    "    my_number = 5\n",
    "    your_guess = int(input(\"I am thinking of a number from 1-10. Can you find it? You have 5 tries. Guess what is it\"))\n",
    "    while True: my_number = your_guess if not \"Nope. It's higher than that. Try again.\" else \"Nope. It's lower than that. Try again.\"\n",
    "    \n",
    "start()"
   ]
  },
  {
   "cell_type": "code",
   "execution_count": null,
   "metadata": {},
   "outputs": [],
   "source": [
    "def value(nums):\n",
    "    for items in nums:\n",
    "        print(nums, end=\"\")\n",
    "        \n",
    "value([1, 2, 3, 4, 5, 6, 7, 8, 9, 10])"
   ]
  },
  {
   "cell_type": "code",
   "execution_count": null,
   "metadata": {},
   "outputs": [],
   "source": [
    "orders = [\n",
    "  {\n",
    "    'id': 'order_001',\n",
    "    'item': 'Introduction to Python', \n",
    "    'quantity': 1, \n",
    "    'price_per_item': 32\n",
    "  }, \n",
    "  {\n",
    "    'id': 'order_002',\n",
    "    'item': 'Advanced Python', \n",
    "    'quantity': 3, \n",
    "    'price_per_item': 40\n",
    "  \n",
    "  },\n",
    "  {\n",
    "    'id': 'order_003', \n",
    "    'item': 'Python web frameworks', \n",
    "    'quantity': 2, \n",
    "    'price_per_item': 51\n",
    "  }\n",
    "]\n",
    "\n",
    "print(orders(0))"
   ]
  },
  {
   "cell_type": "code",
   "execution_count": null,
   "metadata": {},
   "outputs": [],
   "source": [
    "# Create a set comprehension for all x in 0...9 for the function f(x)=x*x\n",
    "n = 10\n",
    "f = {x: x*2 for x in range(n)}\n",
    "\n",
    "# Display the result\n",
    "print(f)"
   ]
  },
  {
   "cell_type": "code",
   "execution_count": null,
   "metadata": {},
   "outputs": [],
   "source": []
  }
 ],
 "metadata": {
  "kernelspec": {
   "display_name": "Python 3",
   "language": "python",
   "name": "python3"
  },
  "language_info": {
   "codemirror_mode": {
    "name": "ipython",
    "version": 3
   },
   "file_extension": ".py",
   "mimetype": "text/x-python",
   "name": "python",
   "nbconvert_exporter": "python",
   "pygments_lexer": "ipython3",
   "version": "3.6.4"
  }
 },
 "nbformat": 4,
 "nbformat_minor": 2
}
