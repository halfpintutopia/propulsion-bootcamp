{
 "cells": [
  {
   "cell_type": "code",
   "execution_count": 15,
   "metadata": {},
   "outputs": [
    {
     "ename": "AttributeError",
     "evalue": "'list' object has no attribute 'items'",
     "output_type": "error",
     "traceback": [
      "\u001b[0;31m---------------------------------------------------------------------------\u001b[0m",
      "\u001b[0;31mAttributeError\u001b[0m                            Traceback (most recent call last)",
      "\u001b[0;32m<ipython-input-15-ea9ace190d81>\u001b[0m in \u001b[0;36m<module>\u001b[0;34m()\u001b[0m\n\u001b[1;32m     21\u001b[0m ]\n\u001b[1;32m     22\u001b[0m \u001b[0;34m\u001b[0m\u001b[0m\n\u001b[0;32m---> 23\u001b[0;31m \u001b[0;34m[\u001b[0m\u001b[0morder\u001b[0m \u001b[0;32mfor\u001b[0m \u001b[0morder\u001b[0m\u001b[0;34m,\u001b[0m \u001b[0mprice\u001b[0m \u001b[0;32min\u001b[0m \u001b[0morders\u001b[0m\u001b[0;34m.\u001b[0m\u001b[0mitems\u001b[0m\u001b[0;34m(\u001b[0m\u001b[0;34m)\u001b[0m \u001b[0;32mif\u001b[0m \u001b[0mprice\u001b[0m \u001b[0;34m==\u001b[0m \u001b[0mprice_per_item\u001b[0m\u001b[0;34m]\u001b[0m\u001b[0;34m\u001b[0m\u001b[0m\n\u001b[0m",
      "\u001b[0;31mAttributeError\u001b[0m: 'list' object has no attribute 'items'"
     ]
    }
   ],
   "source": [
    "orders = [\n",
    "  {\n",
    "    'id': 'order_001',\n",
    "    'item': 'Introduction to Python', \n",
    "    'quantity': 1, \n",
    "    'price_per_item': 32\n",
    "  }, \n",
    "  {\n",
    "    'id': 'order_002',\n",
    "    'item': 'Advanced Python', \n",
    "    'quantity': 3, \n",
    "    'price_per_item': 40\n",
    "  \n",
    "  },\n",
    "  {\n",
    "    'id': 'order_003', \n",
    "    'item': 'Python web frameworks', \n",
    "    'quantity': 2, \n",
    "    'price_per_item': 51\n",
    "  }\n",
    "]\n",
    "\n",
    "[order for order, price in orders.items() if price == price_per_item]\n"
   ]
  },
  {
   "cell_type": "code",
   "execution_count": 2,
   "metadata": {},
   "outputs": [
    {
     "data": {
      "text/plain": [
       "[{'id': 'order_001',\n",
       "  'item': 'Introduction to Python',\n",
       "  'price_per_item': 32,\n",
       "  'quantity': 1},\n",
       " {'id': 'order_002',\n",
       "  'item': 'Advanced Python',\n",
       "  'price_per_item': 40,\n",
       "  'quantity': 3},\n",
       " {'id': 'order_003',\n",
       "  'item': 'Python web frameworks',\n",
       "  'price_per_item': 51,\n",
       "  'quantity': 2}]"
      ]
     },
     "execution_count": 2,
     "metadata": {},
     "output_type": "execute_result"
    }
   ],
   "source": [
    "orders"
   ]
  },
  {
   "cell_type": "code",
   "execution_count": 10,
   "metadata": {},
   "outputs": [
    {
     "ename": "TypeError",
     "evalue": "list() takes at most 1 argument (2 given)",
     "output_type": "error",
     "traceback": [
      "\u001b[0;31m---------------------------------------------------------------------------\u001b[0m",
      "\u001b[0;31mTypeError\u001b[0m                                 Traceback (most recent call last)",
      "\u001b[0;32m<ipython-input-10-ae7c55a38943>\u001b[0m in \u001b[0;36m<module>\u001b[0;34m()\u001b[0m\n\u001b[0;32m----> 1\u001b[0;31m \u001b[0mlist\u001b[0m\u001b[0;34m(\u001b[0m\u001b[0;36m1\u001b[0m\u001b[0;34m,\u001b[0m \u001b[0;36m4\u001b[0m\u001b[0;34m)\u001b[0m\u001b[0;34m\u001b[0m\u001b[0m\n\u001b[0m",
      "\u001b[0;31mTypeError\u001b[0m: list() takes at most 1 argument (2 given)"
     ]
    }
   ],
   "source": [
    "list(1, 4)"
   ]
  },
  {
   "cell_type": "code",
   "execution_count": 12,
   "metadata": {},
   "outputs": [
    {
     "data": {
      "text/plain": [
       "['6']"
      ]
     },
     "execution_count": 12,
     "metadata": {},
     "output_type": "execute_result"
    }
   ],
   "source": [
    "list(\"6\")"
   ]
  },
  {
   "cell_type": "code",
   "execution_count": 14,
   "metadata": {},
   "outputs": [
    {
     "data": {
      "text/plain": [
       "[2, 3]"
      ]
     },
     "execution_count": 14,
     "metadata": {},
     "output_type": "execute_result"
    }
   ],
   "source": [
    "list(range(2, 4))"
   ]
  },
  {
   "cell_type": "code",
   "execution_count": null,
   "metadata": {},
   "outputs": [],
   "source": []
  },
  {
   "cell_type": "code",
   "execution_count": 31,
   "metadata": {},
   "outputs": [
    {
     "ename": "AttributeError",
     "evalue": "'int' object has no attribute 'is_integer'",
     "output_type": "error",
     "traceback": [
      "\u001b[0;31m---------------------------------------------------------------------------\u001b[0m",
      "\u001b[0;31mAttributeError\u001b[0m                            Traceback (most recent call last)",
      "\u001b[0;32m<ipython-input-31-ba6b063ab67d>\u001b[0m in \u001b[0;36m<module>\u001b[0;34m()\u001b[0m\n\u001b[1;32m      2\u001b[0m \u001b[0;31m# list(map(filter(lambda num: (num**num).is_integer() or num%2==0)))\u001b[0m\u001b[0;34m\u001b[0m\u001b[0;34m\u001b[0m\u001b[0m\n\u001b[1;32m      3\u001b[0m \u001b[0;34m\u001b[0m\u001b[0m\n\u001b[0;32m----> 4\u001b[0;31m \u001b[0mlist\u001b[0m\u001b[0;34m(\u001b[0m\u001b[0mfilter\u001b[0m\u001b[0;34m(\u001b[0m\u001b[0;34m(\u001b[0m\u001b[0;32mlambda\u001b[0m \u001b[0mnum\u001b[0m\u001b[0;34m:\u001b[0m \u001b[0;34m(\u001b[0m\u001b[0mnum\u001b[0m\u001b[0;34m**\u001b[0m\u001b[0mnum\u001b[0m\u001b[0;34m)\u001b[0m\u001b[0;34m.\u001b[0m\u001b[0mis_integer\u001b[0m\u001b[0;34m(\u001b[0m\u001b[0;34m)\u001b[0m \u001b[0;32mor\u001b[0m \u001b[0mnum\u001b[0m\u001b[0;34m%\u001b[0m\u001b[0;36m2\u001b[0m\u001b[0;34m==\u001b[0m\u001b[0;36m0\u001b[0m\u001b[0;34m)\u001b[0m\u001b[0;34m,\u001b[0m \u001b[0mli3\u001b[0m\u001b[0;34m)\u001b[0m\u001b[0;34m)\u001b[0m\u001b[0;34m\u001b[0m\u001b[0m\n\u001b[0m",
      "\u001b[0;32m<ipython-input-31-ba6b063ab67d>\u001b[0m in \u001b[0;36m<lambda>\u001b[0;34m(num)\u001b[0m\n\u001b[1;32m      2\u001b[0m \u001b[0;31m# list(map(filter(lambda num: (num**num).is_integer() or num%2==0)))\u001b[0m\u001b[0;34m\u001b[0m\u001b[0;34m\u001b[0m\u001b[0m\n\u001b[1;32m      3\u001b[0m \u001b[0;34m\u001b[0m\u001b[0m\n\u001b[0;32m----> 4\u001b[0;31m \u001b[0mlist\u001b[0m\u001b[0;34m(\u001b[0m\u001b[0mfilter\u001b[0m\u001b[0;34m(\u001b[0m\u001b[0;34m(\u001b[0m\u001b[0;32mlambda\u001b[0m \u001b[0mnum\u001b[0m\u001b[0;34m:\u001b[0m \u001b[0;34m(\u001b[0m\u001b[0mnum\u001b[0m\u001b[0;34m**\u001b[0m\u001b[0mnum\u001b[0m\u001b[0;34m)\u001b[0m\u001b[0;34m.\u001b[0m\u001b[0mis_integer\u001b[0m\u001b[0;34m(\u001b[0m\u001b[0;34m)\u001b[0m \u001b[0;32mor\u001b[0m \u001b[0mnum\u001b[0m\u001b[0;34m%\u001b[0m\u001b[0;36m2\u001b[0m\u001b[0;34m==\u001b[0m\u001b[0;36m0\u001b[0m\u001b[0;34m)\u001b[0m\u001b[0;34m,\u001b[0m \u001b[0mli3\u001b[0m\u001b[0;34m)\u001b[0m\u001b[0;34m)\u001b[0m\u001b[0;34m\u001b[0m\u001b[0m\n\u001b[0m",
      "\u001b[0;31mAttributeError\u001b[0m: 'int' object has no attribute 'is_integer'"
     ]
    }
   ],
   "source": [
    "li3 = [1,2,3,4,5,6,7,8,9,10]\n",
    "# list(map(filter(lambda num: (num**num).is_integer() or num%2==0)))\n",
    "\n",
    "list(filter((lambda num: (num**num).is_integer() or num%2==0), li3))"
   ]
  },
  {
   "cell_type": "code",
   "execution_count": 32,
   "metadata": {},
   "outputs": [
    {
     "data": {
      "text/plain": [
       "[7, 14, 21, 28]"
      ]
     },
     "execution_count": 32,
     "metadata": {},
     "output_type": "execute_result"
    }
   ],
   "source": [
    "list(filter(lambda  num: (num % 7 == 0 and num % 5 != 0),list(range(2, 40))))"
   ]
  },
  {
   "cell_type": "code",
   "execution_count": 27,
   "metadata": {},
   "outputs": [
    {
     "data": {
      "text/plain": [
       "{}"
      ]
     },
     "execution_count": 27,
     "metadata": {},
     "output_type": "execute_result"
    }
   ],
   "source": [
    "def input_range(n, **kwargs):\n",
    "    num_dict = {}\n",
    "    # user[\"name\"] = name\n",
    "    # user[\"password\"] = password\n",
    "    for i in kwargs.items():\n",
    "        num_dict[i] = i*i\n",
    "\n",
    "    return num_dict\n",
    "\n",
    "input_range(9)"
   ]
  },
  {
   "cell_type": "code",
   "execution_count": 33,
   "metadata": {},
   "outputs": [
    {
     "data": {
      "text/plain": [
       "{}"
      ]
     },
     "execution_count": 33,
     "metadata": {},
     "output_type": "execute_result"
    }
   ],
   "source": [
    "def rangeof_Nums(n):\n",
    "    num_dict= {}\n",
    "    for i in n:\n",
    "        num_dict[i] = i*i\n",
    "        \n",
    "    return num_dict\n",
    "\n",
    "input_range(9)"
   ]
  },
  {
   "cell_type": "code",
   "execution_count": 36,
   "metadata": {},
   "outputs": [
    {
     "ename": "TypeError",
     "evalue": "'int' object is not iterable",
     "output_type": "error",
     "traceback": [
      "\u001b[0;31m---------------------------------------------------------------------------\u001b[0m",
      "\u001b[0;31mTypeError\u001b[0m                                 Traceback (most recent call last)",
      "\u001b[0;32m<ipython-input-36-f3fde7ca7b17>\u001b[0m in \u001b[0;36m<module>\u001b[0;34m()\u001b[0m\n\u001b[1;32m      9\u001b[0m     \u001b[0;32mreturn\u001b[0m \u001b[0munderscored_nums\u001b[0m\u001b[0;34m\u001b[0m\u001b[0m\n\u001b[1;32m     10\u001b[0m \u001b[0;34m\u001b[0m\u001b[0m\n\u001b[0;32m---> 11\u001b[0;31m \u001b[0munderscored\u001b[0m\u001b[0;34m(\u001b[0m\u001b[0;36m10\u001b[0m\u001b[0;34m)\u001b[0m\u001b[0;34m\u001b[0m\u001b[0m\n\u001b[0m",
      "\u001b[0;32m<ipython-input-36-f3fde7ca7b17>\u001b[0m in \u001b[0;36munderscored\u001b[0;34m(num)\u001b[0m\n\u001b[1;32m      1\u001b[0m \u001b[0;32mdef\u001b[0m \u001b[0munderscored\u001b[0m\u001b[0;34m(\u001b[0m\u001b[0mnum\u001b[0m\u001b[0;34m)\u001b[0m\u001b[0;34m:\u001b[0m\u001b[0;34m\u001b[0m\u001b[0m\n\u001b[0;32m----> 2\u001b[0;31m     \u001b[0mrangeof_nums\u001b[0m \u001b[0;34m=\u001b[0m \u001b[0;34m(\u001b[0m\u001b[0mlist\u001b[0m\u001b[0;34m(\u001b[0m\u001b[0mnum\u001b[0m\u001b[0;34m)\u001b[0m\u001b[0;34m)\u001b[0m\u001b[0;34m\u001b[0m\u001b[0m\n\u001b[0m\u001b[1;32m      3\u001b[0m     \u001b[0munderscored_nums\u001b[0m \u001b[0;34m=\u001b[0m \u001b[0;34m[\u001b[0m\u001b[0;34m]\u001b[0m\u001b[0;34m\u001b[0m\u001b[0m\n\u001b[1;32m      4\u001b[0m     \u001b[0;32mfor\u001b[0m \u001b[0mcheck\u001b[0m \u001b[0;32min\u001b[0m \u001b[0mrangeof_nums\u001b[0m\u001b[0;34m:\u001b[0m\u001b[0;34m\u001b[0m\u001b[0m\n\u001b[1;32m      5\u001b[0m         \u001b[0;32mif\u001b[0m \u001b[0mrangeof_nums\u001b[0m\u001b[0;34m(\u001b[0m\u001b[0mcheck\u001b[0m\u001b[0;34m)\u001b[0m \u001b[0;34m%\u001b[0m \u001b[0;36m2\u001b[0m \u001b[0;34m!=\u001b[0m \u001b[0;36m0\u001b[0m\u001b[0;34m:\u001b[0m\u001b[0;34m\u001b[0m\u001b[0m\n",
      "\u001b[0;31mTypeError\u001b[0m: 'int' object is not iterable"
     ]
    }
   ],
   "source": [
    "def underscored(num):\n",
    "    rangeof_nums = (list(num))\n",
    "    underscored_nums = []\n",
    "    for check in rangeof_nums:\n",
    "        if rangeof_nums(check) % 2 != 0:\n",
    "            underscored_nums += check\n",
    "        else:\n",
    "            underscored_nums += check\n",
    "    return underscored_nums\n",
    "            \n",
    "underscored(10)"
   ]
  },
  {
   "cell_type": "code",
   "execution_count": null,
   "metadata": {},
   "outputs": [],
   "source": [
    "def perfect_bmi():\n",
    "    weight = float(input(\"What is your weight in kilograms?\"))\n",
    "    height = float(input(\"What is your height in centimetres?\"))\n",
    "    your_bmi = (weight / height) / height\n",
    "\n",
    "    if bmi >= 18.5 and bmi < 25:\n",
    "        return \"You are normal weight\"\n",
    "    elif bmi >= 25 and bmi < 30:\n",
    "        return \"You are overweight\"\n",
    "    elif bmi < 18.5:\n",
    "        return \"You are underweight\""
   ]
  },
  {
   "cell_type": "code",
   "execution_count": null,
   "metadata": {},
   "outputs": [],
   "source": [
    "def perfect_bmi():\n",
    "    weight = float(input(\"What is your weight in kilograms?\"))\n",
    "    height = float(input(\"What is your height in metres?\"))\n",
    "    your_bmi = (weight / height) / height\n",
    "\n",
    "    if your_bmi >= 18.5 and your_bmi < 25:\n",
    "        return \"You are normal weight\"\n",
    "    elif your_bmi >= 25 and your_bmi < 30:\n",
    "        return \"You are overweight\"\n",
    "    elif your_bmi < 18.5:\n",
    "        return \"You are underweight\"\n",
    "\n",
    "perfect_bmi()"
   ]
  },
  {
   "cell_type": "code",
   "execution_count": 48,
   "metadata": {},
   "outputs": [
    {
     "ename": "TypeError",
     "evalue": "'list' object is not callable",
     "output_type": "error",
     "traceback": [
      "\u001b[0;31m---------------------------------------------------------------------------\u001b[0m",
      "\u001b[0;31mTypeError\u001b[0m                                 Traceback (most recent call last)",
      "\u001b[0;32m<ipython-input-48-3e068cc2cb22>\u001b[0m in \u001b[0;36m<module>\u001b[0;34m()\u001b[0m\n\u001b[1;32m      8\u001b[0m             \u001b[0munderscored_nums\u001b[0m \u001b[0;34m+=\u001b[0m \u001b[0mcheck\u001b[0m\u001b[0;34m\u001b[0m\u001b[0m\n\u001b[1;32m      9\u001b[0m \u001b[0;34m\u001b[0m\u001b[0m\n\u001b[0;32m---> 10\u001b[0;31m \u001b[0munderscored\u001b[0m\u001b[0;34m(\u001b[0m\u001b[0;36m1\u001b[0m\u001b[0;34m,\u001b[0m \u001b[0;36m10\u001b[0m\u001b[0;34m)\u001b[0m\u001b[0;34m\u001b[0m\u001b[0m\n\u001b[0m",
      "\u001b[0;32m<ipython-input-48-3e068cc2cb22>\u001b[0m in \u001b[0;36munderscored\u001b[0;34m(start, end)\u001b[0m\n\u001b[1;32m      3\u001b[0m     \u001b[0munderscored_nums\u001b[0m \u001b[0;34m=\u001b[0m \u001b[0;34m[\u001b[0m\u001b[0;34m]\u001b[0m\u001b[0;34m\u001b[0m\u001b[0m\n\u001b[1;32m      4\u001b[0m     \u001b[0;32mfor\u001b[0m \u001b[0mcheck\u001b[0m \u001b[0;32min\u001b[0m \u001b[0mrangeof_nums\u001b[0m\u001b[0;34m:\u001b[0m\u001b[0;34m\u001b[0m\u001b[0m\n\u001b[0;32m----> 5\u001b[0;31m         \u001b[0;32mif\u001b[0m \u001b[0mrangeof_nums\u001b[0m\u001b[0;34m(\u001b[0m\u001b[0mcheck\u001b[0m\u001b[0;34m)\u001b[0m \u001b[0;34m%\u001b[0m \u001b[0;36m2\u001b[0m \u001b[0;34m!=\u001b[0m \u001b[0;36m0\u001b[0m\u001b[0;34m:\u001b[0m\u001b[0;34m\u001b[0m\u001b[0m\n\u001b[0m\u001b[1;32m      6\u001b[0m             \u001b[0munderscored_nums\u001b[0m \u001b[0;34m+=\u001b[0m \u001b[0mcheck\u001b[0m\u001b[0;34m\u001b[0m\u001b[0m\n\u001b[1;32m      7\u001b[0m         \u001b[0;32melse\u001b[0m\u001b[0;34m:\u001b[0m\u001b[0;34m\u001b[0m\u001b[0m\n",
      "\u001b[0;31mTypeError\u001b[0m: 'list' object is not callable"
     ]
    }
   ],
   "source": [
    "def underscored(start, end):\n",
    "    rangeof_nums = list(range(start, end))\n",
    "    underscored_nums = []\n",
    "    for check in rangeof_nums:\n",
    "        if rangeof_nums(check) % 2 != 0:\n",
    "            underscored_nums += check\n",
    "        else:\n",
    "            underscored_nums += check\n",
    "\n",
    "underscored(1, 10)"
   ]
  },
  {
   "cell_type": "code",
   "execution_count": 50,
   "metadata": {},
   "outputs": [
    {
     "data": {
      "text/plain": [
       "[1, 2, 3, 4, 5, 6, 7, 8, 9, 10]"
      ]
     },
     "execution_count": 50,
     "metadata": {},
     "output_type": "execute_result"
    }
   ],
   "source": [
    "list(range(1, 10+1))"
   ]
  },
  {
   "cell_type": "markdown",
   "metadata": {},
   "source": [
    "### def start():\n",
    "    my_number = int(input(\"Which number should the player be guessing?\"))\n",
    "    your_guess = int(input(\"I am thinking of a number from 1-10. Can you find it? You have 5 tries. Guess what is it\"))\n",
    "    tries = 1\n",
    "    while your_guess != my_number:\n",
    "        if your_guess != my_number:\n",
    "            if your_guess < my_number:\n",
    "                tries += 1\n",
    "                return \"Nope. It's higher than that. Try again.\" \n",
    "            elif your_guess > my_number:\n",
    "                tries += 1\n",
    "                return \"Nope. It's lower than that. Try again.\"\n",
    "     \n",
    "        else: \n",
    "            return f\"Congratulations! You guessed it in {tries} tries.\"\n",
    "    \n",
    "def play_again():\n",
    "    answer = input(\"Do you want to play again? Y or N\")\n",
    "    if answer == \"Y\":\n",
    "        start()\n",
    "    else:\n",
    "        return \"Thank you for playing!\"\n",
    "    \n",
    "start()"
   ]
  },
  {
   "cell_type": "markdown",
   "metadata": {},
   "source": [
    "def start():\n",
    "my_number = int(input(\"Which number should the player be guessing?\"))\n",
    "your_guess = int(input(\"I am thinking of a number from 1-10. Can you find it? You have 5 tries. Guess what is it\"))\n",
    "tries = 1\n",
    "while your_guess != my_number:\n",
    "    if your_guess != my_number:\n",
    "        if your_guess < my_number:\n",
    "            tries += 1\n",
    "            return \"Nope. It's higher than that. Try again.\" \n",
    "        elif your_guess > my_number:\n",
    "            tries += 1\n",
    "            return \"Nope. It's lower than that. Try again.\"\n",
    "\n",
    "    else: \n",
    "        return f\"Congratulations! You guessed it in {tries} tries.\"\n",
    "def play_again(): answer = input(\"Do you want to play again? Y or N\") if answer == \"Y\": start() else: return \"Thank you for playing!\"\n",
    "\n",
    "start()"
   ]
  },
  {
   "cell_type": "code",
   "execution_count": 60,
   "metadata": {},
   "outputs": [
    {
     "name": "stdout",
     "output_type": "stream",
     "text": [
      "Which number should the player be guessing?3\n",
      "I am thinking of a number from 1-10. Can you find it? You have 5 tries. Guess what is it3\n"
     ]
    }
   ],
   "source": [
    "def start():\n",
    "    my_number = int(input(\"Which number should the player be guessing?\"))\n",
    "    your_guess = int(input(\"I am thinking of a number from 1-10. Can you find it? You have 5 tries. Guess what is it\"))\n",
    "    tries = 1\n",
    "    while False:\n",
    "        if your_guess != my_number:\n",
    "            if your_guess < my_number:\n",
    "                tries += 1\n",
    "                return \"Nope. It's higher than that. Try again.\" \n",
    "            elif your_guess > my_number:\n",
    "                tries += 1\n",
    "                return \"Nope. It's lower than that. Try again.\"\n",
    "\n",
    "        else: \n",
    "            return f\"Congratulations! You guessed it in {tries} tries.\"\n",
    "\n",
    "def play_again(): \n",
    "    answer = input(\"Do you want to play again? Y or N\") \n",
    "    if answer == \"Y\": \n",
    "        start() \n",
    "    else: \n",
    "        return \"Thank you for playing!\"\n",
    "\n",
    "start()"
   ]
  },
  {
   "cell_type": "code",
   "execution_count": null,
   "metadata": {},
   "outputs": [],
   "source": [
    "def start():\n",
    "    my_number = int(input(\"Which number should the player be guessing?\"))\n",
    "    your_guess = int(input(\"I am thinking of a number from 1-10. Can you find it? You have 5 tries. Guess what is it\"))\n",
    "    tries = 1\n",
    "#     while False:\n",
    "    if your_guess != my_number:\n",
    "        if your_guess < my_number:\n",
    "            tries += 1\n",
    "            return \"Nope. It's higher than that. Try again.\"\n",
    "        elif your_guess > my_number:\n",
    "            tries += 1\n",
    "            return \"Nope. It's lower than that. Try again.\"\n",
    "    else:\n",
    "        return f\"Congratulations! You guessed it in {tries} tries.\"\n",
    "\n",
    "def play_again():\n",
    "    answer = input(\"Do you want to play again? Y or N\")\n",
    "    if answer == \"Y\":\n",
    "        start()\n",
    "    else:\n",
    "        return \"Thank you for playing!\"\n",
    "\n",
    "    \n",
    "start()"
   ]
  },
  {
   "cell_type": "code",
   "execution_count": null,
   "metadata": {},
   "outputs": [],
   "source": [
    "def start():\n",
    "    my_number = 6\n",
    "    your_guess = int(input(\"I am thinking of a number from 1-10. Can you find it? You have 5 tries. Guess what is it\"))\n",
    "    tries = 0\n",
    "    if your_guess != my_number:\n",
    "        if your_guess < my_number:\n",
    "            tries += 1\n",
    "            return \"Nope. It's higher than that. Try again.\"\n",
    "        elif your_guess > my_number:\n",
    "            tries += 1\n",
    "            return \"Nope. It's lower than that. Try again.\"\n",
    "    else:\n",
    "        return f\"Congratulations! You guessed it in {tries} tries.\"\n",
    "\n",
    "def play_again():\n",
    "    answer = input(\"Do you want to play again? Y or N\")\n",
    "    if answer == \"Y\":\n",
    "        start()\n",
    "    else:\n",
    "        return \"Thank you for playing!\"\n",
    "    \n",
    "start()"
   ]
  },
  {
   "cell_type": "code",
   "execution_count": null,
   "metadata": {},
   "outputs": [],
   "source": [
    "import random\n",
    "print random.randint(0, 5)\n"
   ]
  },
  {
   "cell_type": "code",
   "execution_count": null,
   "metadata": {},
   "outputs": [],
   "source": [
    "print random.randint(0, 5)"
   ]
  },
  {
   "cell_type": "code",
   "execution_count": null,
   "metadata": {},
   "outputs": [],
   "source": [
    "def start():\n",
    "    my_number = int(input(\"What's the number?\"))\n",
    "    your_guess = int(input(\"I am thinking of a number from 1-10. Can you find it? You have 5 tries. Guess what is it\"))\n",
    "    tries = 1\n",
    "    while your_guess != my_number\n",
    "        if your_guess != my_number:\n",
    "            if your_guess < my_number:\n",
    "                tries += 1\n",
    "                return \"Nope. It's higher than that. Try again.\"\n",
    "            elif your_guess > my_number:\n",
    "                tries += 1\n",
    "                return \"Nope. It's lower than that. Try again.\"\n",
    "        else:\n",
    "            return f\"Congratulations! You guessed it in {tries} tries.\"\n",
    "\n",
    "def play_again():\n",
    "    answer = input(\"Do you want to play again? Y or N\")\n",
    "    if answer == \"Y\":\n",
    "        start()\n",
    "    else:\n",
    "        return \"Thank you for playing!\"\n",
    "    \n",
    "start()"
   ]
  },
  {
   "cell_type": "code",
   "execution_count": null,
   "metadata": {},
   "outputs": [],
   "source": [
    "def underscored(start, end):\n",
    "    rangeof_nums = list(range(start, end + 1))\n",
    "    underscored_nums = []\n",
    "    for check in rangeof_nums:\n",
    "        if rangeof_nums(check) % 2 != 0:\n",
    "            underscored_nums += check\n",
    "        else:\n",
    "            underscored_nums += check\n",
    "\n",
    "underscored(1, 10)"
   ]
  },
  {
   "cell_type": "code",
   "execution_count": null,
   "metadata": {},
   "outputs": [],
   "source": [
    "def underscored(10):\n",
    "    for items in l:\n",
    "        print(l, end=' ')\n",
    "        \n",
    "value([1, 2, 3, 4])"
   ]
  },
  {
   "cell_type": "code",
   "execution_count": null,
   "metadata": {},
   "outputs": [],
   "source": [
    "print(\"Welcome to\" , end = ' ') \n",
    "print(\"GeeksforGeeks\", end = ' ')"
   ]
  },
  {
   "cell_type": "code",
   "execution_count": null,
   "metadata": {},
   "outputs": [],
   "source": [
    "orders = [\n",
    "  {\n",
    "    'id': 'order_001',\n",
    "    'item': 'Introduction to Python', \n",
    "    'quantity': 1, \n",
    "    'price_per_item': 32\n",
    "  }, \n",
    "  {\n",
    "    'id': 'order_002',\n",
    "    'item': 'Advanced Python', \n",
    "    'quantity': 3, \n",
    "    'price_per_item': 40\n",
    "  \n",
    "  },\n",
    "  {\n",
    "    'id': 'order_003', \n",
    "    'item': 'Python web frameworks', \n",
    "    'quantity': 2, \n",
    "    'price_per_item': 51\n",
    "  }\n",
    "]\n",
    "\n",
    "orders[0][\"quantity\"]"
   ]
  },
  {
   "cell_type": "code",
   "execution_count": null,
   "metadata": {},
   "outputs": [],
   "source": [
    "li2 = [1,2,3,4,5,6,7,8,9,10]\n",
    "print(list(map(filter((lambda num: sqrt(num).is_integer() or num%2==0), li2))))"
   ]
  },
  {
   "cell_type": "code",
   "execution_count": null,
   "metadata": {},
   "outputs": [],
   "source": []
  }
 ],
 "metadata": {
  "kernelspec": {
   "display_name": "Python 3",
   "language": "python",
   "name": "python3"
  },
  "language_info": {
   "codemirror_mode": {
    "name": "ipython",
    "version": 3
   },
   "file_extension": ".py",
   "mimetype": "text/x-python",
   "name": "python",
   "nbconvert_exporter": "python",
   "pygments_lexer": "ipython3",
   "version": "3.6.4"
  }
 },
 "nbformat": 4,
 "nbformat_minor": 2
}
